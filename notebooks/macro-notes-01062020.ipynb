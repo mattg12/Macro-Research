{
 "cells": [
  {
   "cell_type": "markdown",
   "metadata": {},
   "source": [
    "## Macro Notes\n",
    "### Week of January 6th, 2020\n",
    "\n",
    "First macro notes of the new year. Areas of focus:\n",
    "\n",
    "**Commodities:** Broad overview of landscape, deeper dive into crude oil markets given geopolitical events.\n",
    "\n",
    "**Currencies:** Broad overview and study on correlations.\n",
    "\n",
    "**Volatility:** Check in on VIX and SKEW at a minimum. Case study on option strategies (time permitting)\n",
    "\n",
    "_Author: Matthew Garton_"
   ]
  },
  {
   "cell_type": "markdown",
   "metadata": {},
   "source": [
    "### Step 1: GET DATA"
   ]
  }
 ],
 "metadata": {
  "kernelspec": {
   "display_name": "Python [conda env:quant] *",
   "language": "python",
   "name": "conda-env-quant-py"
  },
  "language_info": {
   "codemirror_mode": {
    "name": "ipython",
    "version": 3
   },
   "file_extension": ".py",
   "mimetype": "text/x-python",
   "name": "python",
   "nbconvert_exporter": "python",
   "pygments_lexer": "ipython3",
   "version": "3.7.3"
  }
 },
 "nbformat": 4,
 "nbformat_minor": 2
}
